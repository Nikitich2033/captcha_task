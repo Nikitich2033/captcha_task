{
 "cells": [
  {
   "cell_type": "code",
   "execution_count": 24,
   "metadata": {},
   "outputs": [
    {
     "name": "stdout",
     "output_type": "stream",
     "text": [
      "Found 1172 files belonging to 9 classes.\n",
      "Found 385 files belonging to 9 classes.\n",
      "Epoch 1/15\n",
      "37/37 [==============================] - 2s 25ms/step - loss: 1.5383 - accuracy: 0.5102\n",
      "Epoch 2/15\n",
      "37/37 [==============================] - 1s 26ms/step - loss: 0.3888 - accuracy: 0.8882\n",
      "Epoch 3/15\n",
      "37/37 [==============================] - 1s 25ms/step - loss: 0.2001 - accuracy: 0.9411\n",
      "Epoch 4/15\n",
      "37/37 [==============================] - 1s 25ms/step - loss: 0.1515 - accuracy: 0.9548\n",
      "Epoch 5/15\n",
      "37/37 [==============================] - 1s 25ms/step - loss: 0.1081 - accuracy: 0.9718\n",
      "Epoch 6/15\n",
      "37/37 [==============================] - 1s 24ms/step - loss: 0.0797 - accuracy: 0.9761\n",
      "Epoch 7/15\n",
      "37/37 [==============================] - 1s 24ms/step - loss: 0.0725 - accuracy: 0.9787\n",
      "Epoch 8/15\n",
      "37/37 [==============================] - 1s 23ms/step - loss: 0.0615 - accuracy: 0.9795\n",
      "Epoch 9/15\n",
      "37/37 [==============================] - 1s 25ms/step - loss: 0.0456 - accuracy: 0.9872\n",
      "Epoch 10/15\n",
      "37/37 [==============================] - 1s 23ms/step - loss: 0.0285 - accuracy: 0.9932\n",
      "Epoch 11/15\n",
      "37/37 [==============================] - 1s 22ms/step - loss: 0.0208 - accuracy: 0.9940\n",
      "Epoch 12/15\n",
      "37/37 [==============================] - 1s 22ms/step - loss: 0.0172 - accuracy: 0.9974\n",
      "Epoch 13/15\n",
      "37/37 [==============================] - 1s 22ms/step - loss: 0.0100 - accuracy: 0.9974\n",
      "Epoch 14/15\n",
      "37/37 [==============================] - 1s 22ms/step - loss: 0.0105 - accuracy: 0.9966\n",
      "Epoch 15/15\n",
      "37/37 [==============================] - 1s 23ms/step - loss: 0.0411 - accuracy: 0.9872\n",
      "13/13 [==============================] - 0s 6ms/step - loss: 0.2012 - accuracy: 0.9403\n",
      "Test accuracy: 0.9402597546577454\n"
     ]
    }
   ],
   "source": [
    "import tensorflow as tf\n",
    "from tensorflow import keras\n",
    "from tensorflow.keras import layers\n",
    "\n",
    "# Load and preprocess your data\n",
    "train_ds = tf.keras.preprocessing.image_dataset_from_directory(\n",
    "    'sorted_training/train',\n",
    "    labels='inferred',\n",
    "    label_mode='categorical',\n",
    "    class_names=['1', '2', '3', '4', '5', '6', '7', '8', '9'],\n",
    "    image_size=(30,48),\n",
    "    batch_size=32)\n",
    "\n",
    "test_ds = tf.keras.preprocessing.image_dataset_from_directory(\n",
    "    'sorted_training/test',\n",
    "    labels='inferred',\n",
    "    label_mode='categorical',\n",
    "    class_names=['1', '2', '3', '4', '5', '6', '7', '8', '9'],\n",
    "    image_size=(30,48),\n",
    "    batch_size=32)\n",
    "\n",
    "# Build your model\n",
    "model = keras.Sequential([\n",
    "    layers.experimental.preprocessing.Rescaling(1./255),\n",
    "    layers.Conv2D(32, 3, activation='relu'),\n",
    "    layers.MaxPooling2D(),\n",
    "    layers.Conv2D(32, 3, activation='relu'),\n",
    "    layers.MaxPooling2D(),\n",
    "    layers.Flatten(),\n",
    "    layers.Dense(128, activation='relu'),\n",
    "    layers.Dense(9, activation='softmax')\n",
    "])\n",
    "\n",
    "# Compile your model\n",
    "model.compile(\n",
    "    optimizer='adam',\n",
    "    loss=tf.losses.CategoricalCrossentropy(),\n",
    "    metrics=['accuracy'])\n",
    "\n",
    "# Train your model\n",
    "model.fit(train_ds, epochs=15)\n",
    "\n",
    "# Evaluate your model\n",
    "loss, accuracy = model.evaluate(test_ds)\n",
    "print(f'Test accuracy: {accuracy}')\n"
   ]
  },
  {
   "cell_type": "code",
   "execution_count": 27,
   "metadata": {},
   "outputs": [
    {
     "name": "stdout",
     "output_type": "stream",
     "text": [
      "1/1 [==============================] - 0s 23ms/step\n",
      "Predicted class: 3\n"
     ]
    }
   ],
   "source": [
    "import numpy as np\n",
    "from tensorflow.keras.preprocessing import image\n",
    "\n",
    "# Define the path to the image you want to make a prediction for\n",
    "image_path = 'sorted_training/test/4/captcha_0.jpg_1_digit4.jpg'\n",
    "\n",
    "# Load the image and preprocess it\n",
    "img = image.load_img(image_path, target_size=(30, 48))\n",
    "x = image.img_to_array(img)\n",
    "x = np.expand_dims(x, axis=0)\n",
    "x = x / 255.0\n",
    "\n",
    "# Use the trained model to make a prediction\n",
    "prediction = model.predict(x)\n",
    "predicted_class = np.argmax(prediction[0])\n",
    "\n",
    "# Print the predicted class label\n",
    "print(f'Predicted class: {predicted_class}')\n"
   ]
  }
 ],
 "metadata": {
  "kernelspec": {
   "display_name": "Python 3",
   "language": "python",
   "name": "python3"
  },
  "language_info": {
   "codemirror_mode": {
    "name": "ipython",
    "version": 3
   },
   "file_extension": ".py",
   "mimetype": "text/x-python",
   "name": "python",
   "nbconvert_exporter": "python",
   "pygments_lexer": "ipython3",
   "version": "3.11.1"
  },
  "orig_nbformat": 4
 },
 "nbformat": 4,
 "nbformat_minor": 2
}
